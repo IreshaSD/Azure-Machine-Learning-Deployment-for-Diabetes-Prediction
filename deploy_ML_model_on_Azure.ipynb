{
  "nbformat": 4,
  "nbformat_minor": 0,
  "metadata": {
    "colab": {
      "private_outputs": true,
      "provenance": [],
      "gpuType": "T4"
    },
    "kernelspec": {
      "name": "python3",
      "display_name": "Python 3"
    },
    "language_info": {
      "name": "python"
    },
    "accelerator": "GPU"
  },
  "cells": [
    {
      "cell_type": "markdown",
      "source": [
        "    # This code snippet performs the following tasks:\n",
        "\n",
        "    # Installs the Azure Machine Learning SDK package.\n",
        "    # Imports necessary modules and packages required for working with Azure Machine Learning, handling files, and making HTTP requests.\n",
        "    # Reads configuration data from a JSON file (config.json) containing subscription details, resource group information, workspace name, and region.\n",
        "    # Creates an Azure Machine Learning workspace using the provided subscription details, resource group, workspace name, and region.\n",
        "    # Registers a machine learning model (Diabetes_Pipeline.pkl) in the Azure Machine Learning workspace.\n",
        "    # Defines a Conda environment (my-conda-env) with scikit-learn as a dependency.\n",
        "    # Creates an inference configuration for the model, specifying the entry script (score.py) and the environment.\n",
        "    # Specifies deployment configuration for Azure Container Instances (ACI), including CPU cores and memory.\n",
        "    # Deploys the model as a web service using Azure Container Instances.\n",
        "    # Retrieves the scoring URI of the deployed service."
      ],
      "metadata": {
        "id": "tx9coyWDWdjQ"
      }
    },
    {
      "cell_type": "code",
      "execution_count": null,
      "metadata": {
        "id": "XeH2tRCUG7XO"
      },
      "outputs": [],
      "source": [
        "!pip install azureml-sdk"
      ]
    },
    {
      "cell_type": "markdown",
      "source": [
        "### **Importing the dependencies**"
      ],
      "metadata": {
        "id": "nkPnw3PRMsfO"
      }
    },
    {
      "cell_type": "code",
      "source": [
        "import os\n",
        "import json\n",
        "import requests\n",
        "\n",
        "\n",
        "from azureml.core import Workspace\n",
        "from azureml.core import Model\n",
        "from azureml.core.environment import Environment\n",
        "from azureml.core.conda_dependencies import CondaDependencies\n",
        "from azureml.core.model import InferenceConfig\n",
        "from azureml.core.webservice import AciWebservice, Webservice\n",
        "\n"
      ],
      "metadata": {
        "id": "O4T_NfF8MDKd"
      },
      "execution_count": null,
      "outputs": []
    },
    {
      "cell_type": "code",
      "source": [
        "# laoding the configuration file - standard way - use .env file and load_dotenv from python-dotenv module\n",
        "config_file_path = \"config.json\"\n",
        "\n",
        "\n",
        "# Read JSON data into a dictionary\n",
        "with open(config_file_path, 'r') as file:\n",
        "    data = json.load(file)\n",
        "\n",
        "subscription_id = data[\"subscription_id\"]\n",
        "resource_group = data[\"resource_group\"]\n",
        "workspace_name = data[\"workspace_name\"]\n",
        "region = data[\"region\"]"
      ],
      "metadata": {
        "id": "Pe_jai3MRya5"
      },
      "execution_count": null,
      "outputs": []
    },
    {
      "cell_type": "code",
      "source": [
        "print(subscription_id)\n",
        "print(resource_group)\n",
        "print(workspace_name)\n",
        "print(region)"
      ],
      "metadata": {
        "id": "ZgUKM9fKsa8u"
      },
      "execution_count": null,
      "outputs": []
    },
    {
      "cell_type": "markdown",
      "source": [
        "**Create a Resource Group from Azure Portal**"
      ],
      "metadata": {
        "id": "-qtkmUYLktgr"
      }
    },
    {
      "cell_type": "code",
      "source": [
        "# Create a workspace\n",
        "\n",
        "ws = Workspace.create(name=workspace_name,\n",
        "                      subscription_id=subscription_id,\n",
        "                      resource_group=resource_group,\n",
        "                      location=region)\n",
        "\n",
        "print(f'Workspace {workspace_name} created')"
      ],
      "metadata": {
        "id": "HkqpnHqdtovZ"
      },
      "execution_count": null,
      "outputs": []
    },
    {
      "cell_type": "code",
      "source": [
        "# Specify the path to your  model file\n",
        "model_path = 'Diabetes_Pipeline.pkl'"
      ],
      "metadata": {
        "id": "fG4rJzchpU_M"
      },
      "execution_count": null,
      "outputs": []
    },
    {
      "cell_type": "code",
      "source": [
        "model_name='Diabetes_Prediction_Model'"
      ],
      "metadata": {
        "id": "4Aop4chxlg7J"
      },
      "execution_count": null,
      "outputs": []
    },
    {
      "cell_type": "code",
      "source": [
        "# Register the model in Azure Machine Learning\n",
        "registered_model = Model.register(model_path=model_path, model_name=model_name, workspace=ws)"
      ],
      "metadata": {
        "id": "SWYgnjDel9b9"
      },
      "execution_count": null,
      "outputs": []
    },
    {
      "cell_type": "code",
      "source": [
        "# Create a Conda environment for your scikit-learn model\n",
        "conda_env = Environment('my-conda-env')\n",
        "conda_env.python.conda_dependencies = CondaDependencies.create(conda_packages=['scikit-learn']) # setting up the environment for our model which is scikit learning here\n"
      ],
      "metadata": {
        "id": "VfMyplpmmCt2"
      },
      "execution_count": null,
      "outputs": []
    },
    {
      "cell_type": "code",
      "source": [
        "# Create an InferenceConfig\n",
        "inference_config = InferenceConfig(entry_script='score.py', environment=conda_env)"
      ],
      "metadata": {
        "id": "KGMolKrlpuf3"
      },
      "execution_count": null,
      "outputs": []
    },
    {
      "cell_type": "code",
      "source": [
        "# Specify deployment configuration for ACI\n",
        "aci_config = AciWebservice.deploy_configuration(cpu_cores=1, memory_gb=1)"
      ],
      "metadata": {
        "id": "mxsmmQqMpzbF"
      },
      "execution_count": null,
      "outputs": []
    },
    {
      "cell_type": "code",
      "source": [
        "service = Model.deploy(workspace=ws,\n",
        "                       name='diabetes-prediction-service',\n",
        "                       models=[registered_model],\n",
        "                       inference_config=inference_config,\n",
        "                       deployment_config=aci_config)\n",
        "service.wait_for_deployment(show_output=True)"
      ],
      "metadata": {
        "id": "HXz5Mq-x8CwZ"
      },
      "execution_count": null,
      "outputs": []
    },
    {
      "cell_type": "code",
      "source": [
        "scoring_uri = service.scoring_uri"
      ],
      "metadata": {
        "id": "evOA_J-L8MPW"
      },
      "execution_count": null,
      "outputs": []
    },
    {
      "cell_type": "code",
      "source": [
        "scoring_uri"
      ],
      "metadata": {
        "id": "_THLIMOUBvtv"
      },
      "execution_count": null,
      "outputs": []
    },
    {
      "cell_type": "markdown",
      "source": [
        "**Cleaning up all the created resources**"
      ],
      "metadata": {
        "id": "2gxu1KpLCGeW"
      }
    },
    {
      "cell_type": "code",
      "source": [
        "# Delete the service\n",
        "\n",
        "service_name = \"diabetes-prediction-service\"\n",
        "\n",
        "service = ws.webservices[service_name]\n",
        "service.delete()"
      ],
      "metadata": {
        "id": "38bdCKtoByJv"
      },
      "execution_count": null,
      "outputs": []
    },
    {
      "cell_type": "code",
      "source": [
        "# Specify the name of the registered model to delete\n",
        "model_name = 'diabetes_prediction_model'\n",
        "\n",
        "# Delete the model\n",
        "registered_model = ws.models[model_name]\n",
        "registered_model.delete()"
      ],
      "metadata": {
        "id": "_76y8iDlCK7w"
      },
      "execution_count": null,
      "outputs": []
    },
    {
      "cell_type": "code",
      "source": [
        "# Delete the workspace\n",
        "ws.delete(delete_dependent_resources=True)"
      ],
      "metadata": {
        "id": "60a3Ic2OCNEy"
      },
      "execution_count": null,
      "outputs": []
    },
    {
      "cell_type": "markdown",
      "source": [
        "1. Azure Account with appropriate subscription\n",
        "2. Configuration file that has subscription_id and other details like resource_group name, etc\n",
        "3. Create a resource group from Azure Portal\n",
        "4. Create a workspace\n",
        "5. Register the model in container registry\n",
        "6. Deploy the model as endpoint\n",
        "7. Once done, delete the created resources"
      ],
      "metadata": {
        "id": "CxcxFajWCUyr"
      }
    }
  ]
}