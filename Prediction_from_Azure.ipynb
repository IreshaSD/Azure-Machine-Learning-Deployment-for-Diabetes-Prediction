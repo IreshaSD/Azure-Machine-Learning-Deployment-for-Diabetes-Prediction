{
  "nbformat": 4,
  "nbformat_minor": 0,
  "metadata": {
    "colab": {
      "private_outputs": true,
      "provenance": []
    },
    "kernelspec": {
      "name": "python3",
      "display_name": "Python 3"
    },
    "language_info": {
      "name": "python"
    }
  },
  "cells": [
    {
      "cell_type": "code",
      "execution_count": null,
      "metadata": {
        "id": "U0_1snisGOAw"
      },
      "outputs": [],
      "source": [
        "import requests\n",
        "import json\n",
        "\n",
        "# Define the input data as a list\n",
        "# input_data = [5,166,72,19,175,25.8,0.587,51]\n",
        "# input_data = [1, 189, 60, 23, 846, 30.1, 0.398, 59]\n",
        "# [1]\n",
        "\n",
        "input_data = [5,166,72,19,175,25.8,0.587,51]\n",
        "#[1]\n",
        "\n",
        "# input_data = [0, 118, 84, 47, 230, 45.8, 0.551, 31]\n",
        "# #[1]\n",
        "\n",
        "# input_data = [1, 115, 70, 30, 96, 34.6, 0.529, 32]\n",
        "# #[1]\n",
        "\n",
        "# input_data = [8,99, 84, 0, 0, 35.4, 0.388, 50]\n",
        "# #[0]\n",
        "\n",
        "# input_data = [13,145, 82, 19, 110, 22.2, 0.245, 57]\n",
        "# #[0]\n",
        "\n",
        "# input_data = [10,122, 78, 31, 0, 27.6, 0.512, 45]\n",
        "#[0]\n",
        "\n",
        "\n",
        "# Convert the input data to a JSON string\n",
        "input_data_json = json.dumps({\"data\": [input_data]})\n",
        "\n",
        "# Replace with the URL of your deployed service\n",
        "scoring_uri = \"http://46a5ed3e-c22c-4095-afad-6eedb48c0260.centralindia.azurecontainer.io/score\"\n",
        "\n",
        "# Define the content type\n",
        "headers = {\"Content-Type\": \"application/json\"}\n",
        "\n",
        "# Send an HTTP POST request to the endpoint\n",
        "response = requests.post(scoring_uri, data=input_data_json, headers=headers)\n",
        "\n",
        "# Check the response status code\n",
        "if response.status_code == 200: # If the response  is 200 , request is succesful\n",
        "    # Parse the JSON response\n",
        "    result = json.loads(response.json())\n",
        "    print(result)\n",
        "    # Extract the prediction (result) from the response\n",
        "    prediction = result[\"result\"][0]\n",
        "    print(f\"Prediction: {prediction}\")\n",
        "else:\n",
        "    print(f\"Error: {response.text}\")"
      ]
    }
  ]
}